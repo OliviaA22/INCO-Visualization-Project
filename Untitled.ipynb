{
 "cells": [
  {
   "cell_type": "code",
   "execution_count": 2,
   "id": "dfb75876",
   "metadata": {},
   "outputs": [],
   "source": [
    "import json\n",
    "\n",
    "with open(\"PatientData.json\") as f:\n",
    "    data = json.load(f)\n",
    "\n",
    "def set_medication_status(data):\n",
    "    for patient in data:\n",
    "        if patient['Given'] == 0:\n",
    "            patient['Status'] = 'red' \n",
    "        elif patient['Prescribed'] == patient['Given']:\n",
    "            patient['Status'] = 'green'\n",
    "        else:\n",
    "            patient['Status'] = 'orange'\n",
    "    return data\n",
    "data = set_medication_status(data)"
   ]
  },
  {
   "cell_type": "code",
   "execution_count": null,
   "id": "5ae054d4",
   "metadata": {},
   "outputs": [],
   "source": []
  },
  {
   "cell_type": "code",
   "execution_count": null,
   "id": "cc5bd95d",
   "metadata": {},
   "outputs": [],
   "source": [
    "for patient in data:\n",
    "    for pat in data:\n",
    "    if patient['Ward'] == pat['Ward'] and patient['RoomNo'] == pat"
   ]
  }
 ],
 "metadata": {
  "kernelspec": {
   "display_name": "app_env",
   "language": "python",
   "name": "app_env"
  },
  "language_info": {
   "codemirror_mode": {
    "name": "ipython",
    "version": 3
   },
   "file_extension": ".py",
   "mimetype": "text/x-python",
   "name": "python",
   "nbconvert_exporter": "python",
   "pygments_lexer": "ipython3",
   "version": "3.10.8"
  }
 },
 "nbformat": 4,
 "nbformat_minor": 5
}
